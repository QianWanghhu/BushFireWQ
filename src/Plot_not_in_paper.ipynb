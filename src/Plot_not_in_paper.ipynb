{
 "cells": [
  {
   "cell_type": "markdown",
   "metadata": {},
   "source": [
    "## 2.2 Plot event duration and peak flow distribution."
   ]
  },
  {
   "cell_type": "code",
   "execution_count": null,
   "metadata": {},
   "outputs": [],
   "source": [
    "# import packages\n",
    "import numpy as np\n",
    "import pandas as pd\n",
    "import matplotlib.pyplot as plt\n",
    "import seaborn as sns\n",
    "import os\n",
    "from scipy.stats import mannwhitneyu\n",
    "# Import local functions\n",
    "from functions import plot_storm_cq"
   ]
  },
  {
   "cell_type": "code",
   "execution_count": null,
   "metadata": {},
   "outputs": [],
   "source": [
    "# Define dir and site\n",
    "site = '212058'\n",
    "fig_dir = f'../output/figs/{site}/'\n",
    "date_postfire = pd.to_datetime('2020-01-01')\n",
    "date_postyear = pd.to_datetime('2021-06-30')\n",
    "date_preyear = pd.to_datetime('2016-07-01')\n",
    "freq = 'Hourly'\n",
    "font_size = 14\n",
    "Q_thre = 1"
   ]
  },
  {
   "cell_type": "code",
   "execution_count": null,
   "metadata": {},
   "outputs": [],
   "source": [
    "# Read the StormEventSummaryData\n",
    "storm_summary = pd.read_csv('../output/CQ_analysis/212058/' + \\\n",
    "                            'QAbove_2_212058_StormEventClean.csv', index_col = 'id')"
   ]
  },
  {
   "cell_type": "code",
   "execution_count": null,
   "metadata": {},
   "outputs": [],
   "source": [
    "# Hist plot of Event Duration (Hours)\n",
    "storm_summary.duration_hrs.plot(kind='hist')\n",
    "plt.xlabel('Hours')\n",
    "plt.title('Event Duration')\n",
    "plt.savefig(f'{fig_dir}EventDurationHrs.png', format = 'png', dpi=300)"
   ]
  },
  {
   "cell_type": "code",
   "execution_count": null,
   "metadata": {},
   "outputs": [],
   "source": [
    "# Scatter plot of Event Duration and Peakflow\n",
    "sns.scatterplot(data=storm_summary, x = 'duration_hrs', y = 'q_peak')\n",
    "plt.savefig(f'{fig_dir}EventDurationVsPeakFLow.png', format = 'png', dpi=300)"
   ]
  }
 ],
 "metadata": {
  "kernelspec": {
   "display_name": "bushfire_wq",
   "language": "python",
   "name": "bushfire_wq"
  },
  "language_info": {
   "name": "python",
   "version": "3.12.5"
  }
 },
 "nbformat": 4,
 "nbformat_minor": 2
}
